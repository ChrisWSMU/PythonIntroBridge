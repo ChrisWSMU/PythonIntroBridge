{
 "cells": [
  {
   "cell_type": "markdown",
   "metadata": {},
   "source": [
    "_____\n",
    "\n",
    "# Start Example III-3"
   ]
  },
  {
   "cell_type": "code",
   "execution_count": 6,
   "metadata": {
    "collapsed": false
   },
   "outputs": [
    {
     "name": "stdout",
     "output_type": "stream",
     "text": [
      "Calculator\n",
      "Operations List: sine, %, abs, tan, *, +, /, ^, cosine, -, \n",
      "45\n",
      "Current Stack: [45.0]\n",
      "3\n",
      "Current Stack: [45.0, 3.0]\n",
      "*\n",
      "Current Stack: [135.0]\n",
      "q\n"
     ]
    }
   ],
   "source": [
    "# this file should be saved so that it is on the path or in the same directory as this notebook\n",
    "from __future__ import print_function\n",
    "from calculators import CustomCalculator\n",
    "from calculators import CalculatorError\n",
    "\n",
    "print(\"Calculator\")\n",
    "calc = CustomCalculator()\n",
    "calc.add_custom_operations('operators.json') # new function\n",
    "calc.print_operations() # inherited function\n",
    "\n",
    "while True: \n",
    "    user_input = input(\"\")\n",
    "    if user_input == 'q':\n",
    "        break\n",
    "        \n",
    "    try: \n",
    "        # otherwise use calculator model to get results\n",
    "        calc.addto_queue(user_input) # overwritten function\n",
    "    except CalculatorError as Err:\n",
    "        print(\"Error: \", Err) \n",
    "        \n",
    "    calc.print_queue()\n",
    "        "
   ]
  },
  {
   "cell_type": "code",
   "execution_count": 8,
   "metadata": {
    "collapsed": false
   },
   "outputs": [
    {
     "name": "stdout",
     "output_type": "stream",
     "text": [
      "Calculator\n",
      "Operations List: sine, %, abs, tan, *, cosine, ^, gauss, -, **, /, +, \n",
      "34\n",
      "Current Stack: [34.0]\n",
      "2\n",
      "Current Stack: [34.0, 2.0]\n",
      "**\n",
      "Current Stack: [1156.0]\n",
      "1\n",
      "Current Stack: [1156.0, 1.0]\n",
      "1\n",
      "Current Stack: [1156.0, 1.0, 1.0]\n",
      "gauss\n",
      "Current Stack: [0.00034510577889397293]\n",
      "q\n"
     ]
    }
   ],
   "source": [
    "from calculators import Operator\n",
    "\n",
    "# now addin a custom calculator class that can add in other operations written in notebook\n",
    "class NotebookCalculator(CustomCalculator):\n",
    "    def add_custom_function(self, func, key, num_args=1):\n",
    "        self.operations_list[key] = Operator(func, num_args = num_args)\n",
    "        \n",
    "# some user defined functions\n",
    "# extend the power function to also have ** operator\n",
    "def power(arg1, arg2):\n",
    "    return arg2**arg1\n",
    "\n",
    "def gaussian(x,u=0.0,std=1.0):\n",
    "    import math\n",
    "    return math.exp((x-u)/(2*std**2))/math.sqrt(2*math.pi*std**2)\n",
    "    \n",
    "\n",
    "print(\"Calculator\")\n",
    "calc = NotebookCalculator()\n",
    "calc.add_custom_operations('operators.json') \n",
    "                                                \n",
    "calc.add_custom_function(power,'**',num_args=2)\n",
    "calc.add_custom_function(gaussian,'gauss',num_args=3)                                                \n",
    "                                                \n",
    "calc.print_operations() # inherited function\n",
    "\n",
    "while True: \n",
    "    user_input = input(\"\")\n",
    "    if user_input == 'q':\n",
    "        break\n",
    "        \n",
    "    try: \n",
    "        # otherwise use calculator model to get results\n",
    "        calc.addto_queue(user_input) # overwritten function\n",
    "    except CalculatorError as Err:\n",
    "        print(\"Error: \", Err) \n",
    "        \n",
    "    calc.print_queue()\n",
    "        "
   ]
  },
  {
   "cell_type": "markdown",
   "metadata": {},
   "source": [
    "# End Example III-3\n",
    "\n",
    "_____\n",
    "\n",
    "# Start Example III-4\n",
    "Using Rpy2"
   ]
  },
  {
   "cell_type": "code",
   "execution_count": 9,
   "metadata": {
    "collapsed": false
   },
   "outputs": [
    {
     "name": "stdout",
     "output_type": "stream",
     "text": [
      "The rpy2.ipython extension is already loaded. To reload it, use:\n",
      "  %reload_ext rpy2.ipython\n"
     ]
    }
   ],
   "source": [
    "\n",
    "%load_ext rpy2.ipython"
   ]
  },
  {
   "cell_type": "code",
   "execution_count": 10,
   "metadata": {
    "collapsed": false
   },
   "outputs": [
    {
     "name": "stdout",
     "output_type": "stream",
     "text": [
      "[ 16.]\n"
     ]
    }
   ],
   "source": [
    "input_arg_name = 2\n",
    "%R -i input_arg_name -o output_arg_name output_arg_name=input_arg_name^4\n",
    "print(output_arg_name)"
   ]
  },
  {
   "cell_type": "code",
   "execution_count": 11,
   "metadata": {
    "collapsed": false
   },
   "outputs": [
    {
     "data": {
      "text/plain": [
       "256.0"
      ]
     },
     "execution_count": 11,
     "metadata": {},
     "output_type": "execute_result"
    }
   ],
   "source": [
    "def r_func(input_arg):\n",
    "    %R -i input_arg -o output_arg_name output_arg_name<-input_arg^4\n",
    "    return output_arg_name[0]\n",
    "\n",
    "r_func(4)"
   ]
  },
  {
   "cell_type": "code",
   "execution_count": 12,
   "metadata": {
    "collapsed": false
   },
   "outputs": [
    {
     "name": "stdout",
     "output_type": "stream",
     "text": [
      "Calculator\n",
      "Operations List: sine, %, abs, tan, *, cosine, ^, gauss, -, **, /, 4th, +, \n",
      "3\n",
      "Current Stack: [3.0]\n",
      "4th\n",
      "Current Stack: [81.0]\n",
      "q\n"
     ]
    }
   ],
   "source": [
    "print(\"Calculator\")\n",
    "calc = NotebookCalculator()\n",
    "calc.add_custom_operations('operators.json') \n",
    "                                                \n",
    "calc.add_custom_function(power,'**',num_args=2)\n",
    "calc.add_custom_function(gaussian,'gauss',num_args=3)  \n",
    "calc.add_custom_function(r_func,'4th',num_args=1)  \n",
    "                                                \n",
    "calc.print_operations() # inherited function\n",
    "\n",
    "while True: \n",
    "    user_input = input(\"\")\n",
    "    if user_input == 'q':\n",
    "        break\n",
    "        \n",
    "    try: \n",
    "        # otherwise use calculator model to get results\n",
    "        calc.addto_queue(user_input) # overwritten function\n",
    "    except CalculatorError as Err:\n",
    "        print(\"Error: \", Err) \n",
    "        \n",
    "    calc.print_queue()"
   ]
  },
  {
   "cell_type": "code",
   "execution_count": 13,
   "metadata": {
    "collapsed": false
   },
   "outputs": [],
   "source": [
    "%%R\n",
    "# Create a function to sum squares of numbers in sequence.\n",
    "sum_vector <- function(a) {\n",
    "    b = 0\n",
    "    for(i in 1:a) {\n",
    "      b = b+i^2\n",
    "   }\n",
    "   return(b) # last variable evaluated will be returned\n",
    "}"
   ]
  },
  {
   "cell_type": "code",
   "execution_count": 14,
   "metadata": {
    "collapsed": false
   },
   "outputs": [
    {
     "name": "stdout",
     "output_type": "stream",
     "text": [
      "14.0\n"
     ]
    }
   ],
   "source": [
    "%R -o out out=sum_vector(3)\n",
    "print(out[0])"
   ]
  },
  {
   "cell_type": "code",
   "execution_count": 15,
   "metadata": {
    "collapsed": false
   },
   "outputs": [],
   "source": [
    "# back to python, but R workspace is still active\n",
    "# wrap it in a python function for the calculator\n",
    "def sum_vector_in_r(arg):\n",
    "    %R -i arg -o out out=sum_vector(arg)\n",
    "    return out[0]"
   ]
  },
  {
   "cell_type": "code",
   "execution_count": 16,
   "metadata": {
    "collapsed": false
   },
   "outputs": [
    {
     "name": "stdout",
     "output_type": "stream",
     "text": [
      "Calculator\n",
      "Operations List: sine, %, abs, tan, *, cosine, ^, gauss, -, **, /, 4th, +, sumvect, \n",
      "10\n",
      "Current Stack: [10.0]\n",
      "sumvect\n",
      "Current Stack: [385.0]\n",
      "q\n"
     ]
    }
   ],
   "source": [
    "print(\"Calculator\")\n",
    "calc = NotebookCalculator()\n",
    "calc.add_custom_operations('operators.json') \n",
    "                                                \n",
    "calc.add_custom_function(power,'**',num_args=2)\n",
    "calc.add_custom_function(gaussian,'gauss',num_args=3)  \n",
    "calc.add_custom_function(r_func,'4th',num_args=1) \n",
    "calc.add_custom_function(sum_vector_in_r,'sumvect',num_args=1) \n",
    "                                                \n",
    "calc.print_operations() # inherited function\n",
    "\n",
    "while True: \n",
    "    user_input = input(\"\")\n",
    "    if user_input == 'q':\n",
    "        break\n",
    "        \n",
    "    try: \n",
    "        # otherwise use calculator model to get results\n",
    "        calc.addto_queue(user_input) # overwritten function\n",
    "    except CalculatorError as Err:\n",
    "        print(\"Error: \", Err) \n",
    "        \n",
    "    calc.print_queue()"
   ]
  },
  {
   "cell_type": "code",
   "execution_count": null,
   "metadata": {
    "collapsed": true
   },
   "outputs": [],
   "source": []
  }
 ],
 "metadata": {
  "kernelspec": {
   "display_name": "Python 3",
   "language": "python",
   "name": "python3"
  },
  "language_info": {
   "codemirror_mode": {
    "name": "ipython",
    "version": 3
   },
   "file_extension": ".py",
   "mimetype": "text/x-python",
   "name": "python",
   "nbconvert_exporter": "python",
   "pygments_lexer": "ipython3",
   "version": "3.5.2"
  }
 },
 "nbformat": 4,
 "nbformat_minor": 0
}
