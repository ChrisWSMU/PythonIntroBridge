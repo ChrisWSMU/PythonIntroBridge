{
 "cells": [
  {
   "cell_type": "markdown",
   "metadata": {},
   "source": [
    "# Example III-1\n",
    "# Linear Algebra Review with a Few Numpy Operations"
   ]
  },
  {
   "cell_type": "code",
   "execution_count": null,
   "metadata": {
    "collapsed": false
   },
   "outputs": [],
   "source": [
    "import numpy as np\n",
    "# numpy examples (these will work for python 3 only)\n",
    "# in python 3, they have overloaded the @ operator to perform matrix multiplication\n",
    "\n",
    "a = np.array([[0,1,2],\n",
    "              [3,4,5]])\n",
    "\n",
    "print(a)\n",
    "print('---')\n",
    "print(a.T)\n",
    "print('---')\n",
    "print(a.flatten())"
   ]
  },
  {
   "cell_type": "code",
   "execution_count": null,
   "metadata": {
    "collapsed": false
   },
   "outputs": [],
   "source": [
    "a = np.array([1,2], float)\n",
    "b = np.array([3,4,5,6], float)\n",
    "c = np.array([7,8,9], float)\n",
    "np.concatenate((a, b, c))"
   ]
  },
  {
   "cell_type": "code",
   "execution_count": null,
   "metadata": {
    "collapsed": false
   },
   "outputs": [],
   "source": [
    "a = np.array([[1, 2], [3, 4]], float)\n",
    "b = np.array([[5, 6], [7,8]], float)\n",
    "np.concatenate((a,b))"
   ]
  },
  {
   "cell_type": "code",
   "execution_count": null,
   "metadata": {
    "collapsed": false
   },
   "outputs": [],
   "source": [
    "print(np.concatenate((a,b), axis=0))\n",
    "print(np.concatenate((a,b), axis=1))"
   ]
  },
  {
   "cell_type": "code",
   "execution_count": null,
   "metadata": {
    "collapsed": false
   },
   "outputs": [],
   "source": [
    "a = np.array([1, 2, 3], float)\n",
    "print(a)\n",
    "print('---')\n",
    "print(a[:,np.newaxis])\n",
    "print('---')\n",
    "print(a[:,np.newaxis].shape)"
   ]
  },
  {
   "cell_type": "code",
   "execution_count": null,
   "metadata": {
    "collapsed": false
   },
   "outputs": [],
   "source": [
    "print(b[np.newaxis,:])\n",
    "print('---')\n",
    "print(b[np.newaxis,:].shape)"
   ]
  },
  {
   "cell_type": "code",
   "execution_count": null,
   "metadata": {
    "collapsed": false
   },
   "outputs": [],
   "source": [
    "a = np.array([1,2,3], float)\n",
    "b = np.array([5,2,6], float)\n",
    "\n",
    "print('+ ', a + b)\n",
    "print('- ', a - b)\n",
    "print('* ', a * b)\n",
    "print('/ ', a / b)\n",
    "print('% ', a % b)\n",
    "print('**', b**a)\n",
    "print('@ ', a @ b)"
   ]
  },
  {
   "cell_type": "code",
   "execution_count": null,
   "metadata": {
    "collapsed": false
   },
   "outputs": [],
   "source": [
    "# broadcasting\n",
    "a = np.array([[1, 2], [3, 4], [5, 6]], float)\n",
    "b = np.array([-1, 3], float)\n",
    "a\n",
    "b\n",
    "\n",
    "print(a + b)"
   ]
  },
  {
   "cell_type": "code",
   "execution_count": null,
   "metadata": {
    "collapsed": false
   },
   "outputs": [],
   "source": [
    "np.unique([0,3,56,63,45,3234,3,24,76,4,234,6,3])"
   ]
  },
  {
   "cell_type": "code",
   "execution_count": null,
   "metadata": {
    "collapsed": false
   },
   "outputs": [],
   "source": [
    "#  indexing\n",
    "a = np.array([[1, 4.5, 1500],\n",
    "              [5, 3.5, 800],\n",
    "              [2, 0.5, 1300]])\n",
    "\n",
    "print(a[:,0])\n",
    "print(a[0,:])"
   ]
  },
  {
   "cell_type": "code",
   "execution_count": null,
   "metadata": {
    "collapsed": false
   },
   "outputs": [],
   "source": [
    "print(a[:,0]>=2)\n",
    "print('---')\n",
    "print(a[ a[:,0]>=2 ])"
   ]
  },
  {
   "cell_type": "code",
   "execution_count": null,
   "metadata": {
    "collapsed": false
   },
   "outputs": [],
   "source": [
    "print(np.trace(a))\n",
    "print('---')\n",
    "print(np.diagonal(a))\n",
    "print('---')\n",
    "\n",
    "v = np.diagonal(a)\n",
    "print(np.sum(v))\n",
    "print('---')\n",
    "print(np.diag(v))"
   ]
  },
  {
   "cell_type": "code",
   "execution_count": null,
   "metadata": {
    "collapsed": false
   },
   "outputs": [],
   "source": [
    "from numpy import linalg as lin\n",
    "print(lin.det(a))\n",
    "print('---')\n",
    "print(lin.inv(a))"
   ]
  },
  {
   "cell_type": "code",
   "execution_count": null,
   "metadata": {
    "collapsed": false
   },
   "outputs": [],
   "source": [
    "vals, vects =lin.eig(a)\n",
    "print(vals)\n",
    "print('---')\n",
    "print(vects)"
   ]
  },
  {
   "cell_type": "markdown",
   "metadata": {},
   "source": [
    "___\n",
    "# Example III-1"
   ]
  },
  {
   "cell_type": "code",
   "execution_count": 14,
   "metadata": {
    "collapsed": false
   },
   "outputs": [
    {
     "name": "stdout",
     "output_type": "stream",
     "text": [
      "[[-1 -2]\n",
      " [ 3  1]\n",
      " [ 4  5]]\n",
      "---\n",
      "[[ 0.2  0.8]]\n",
      "---\n"
     ]
    },
    {
     "data": {
      "text/plain": [
       "array([[-1.8],\n",
       "       [ 1.4],\n",
       "       [ 4.8]])"
      ]
     },
     "execution_count": 14,
     "metadata": {},
     "output_type": "execute_result"
    }
   ],
   "source": [
    "import numpy as np\n",
    "# show formats for the function\n",
    "x = np.array([[-1, -2],\n",
    "              [3, 1],\n",
    "              [4, 5],\n",
    "             ]) # make column\n",
    "\n",
    "w = np.array([[0.2 , 0.8]])\n",
    "\n",
    "print(x)\n",
    "print('---')\n",
    "print(w)\n",
    "print('---')\n",
    "np.dot(x,w.T)"
   ]
  },
  {
   "cell_type": "code",
   "execution_count": 15,
   "metadata": {
    "collapsed": false
   },
   "outputs": [
    {
     "data": {
      "text/plain": [
       "array([[ 0.14185106],\n",
       "       [ 0.80218389],\n",
       "       [ 0.99183743]])"
      ]
     },
     "execution_count": 15,
     "metadata": {},
     "output_type": "execute_result"
    }
   ],
   "source": [
    "\n",
    "def yhat(x,w):\n",
    "    return 1/(1+np.exp(-np.dot(x,w.T)))\n",
    "\n",
    "yhat(x,w)"
   ]
  },
  {
   "cell_type": "code",
   "execution_count": 16,
   "metadata": {
    "collapsed": true
   },
   "outputs": [],
   "source": [
    "# create objective function\n",
    "def obj(w,x,y):\n",
    "    return np.sum((y-yhat(x,w))**2)"
   ]
  },
  {
   "cell_type": "code",
   "execution_count": 17,
   "metadata": {
    "collapsed": false
   },
   "outputs": [
    {
     "name": "stdout",
     "output_type": "stream",
     "text": [
      "0.336959748046\n",
      "---\n",
      "0.316656051456\n",
      "---\n",
      "0.319908985509\n"
     ]
    }
   ],
   "source": [
    "# example \n",
    "x_rand = (np.random.rand(100,2)-0.5)*2 # n_rows by n_cols\n",
    "\n",
    "w_exact = np.array([5,3])\n",
    "y = yhat(x_rand,w_exact) # generate a function\n",
    "y = y + np.random.randn(*y.shape)*0.055 # add random Gaussian noise\n",
    "\n",
    "w_temp = np.array([5.5,3.2])\n",
    "print(obj(w_temp, x_rand, y) )\n",
    "\n",
    "print('---')\n",
    "w_temp = np.array([5.1,3.1])\n",
    "print(obj(w_temp, x_rand, y))\n",
    "\n",
    "print('---')\n",
    "print(obj(w_exact, x_rand, y) )"
   ]
  },
  {
   "cell_type": "code",
   "execution_count": 18,
   "metadata": {
    "collapsed": false
   },
   "outputs": [
    {
     "data": {
      "text/plain": [
       "<matplotlib.text.Text at 0x10f245588>"
      ]
     },
     "execution_count": 18,
     "metadata": {},
     "output_type": "execute_result"
    },
    {
     "data": {
      "image/png": "[encoded data removed]",
      "text/plain": [
       "<matplotlib.figure.Figure at 0x10ce4e080>"
      ]
     },
     "metadata": {},
     "output_type": "display_data"
    }
   ],
   "source": [
    "# simple graphing example\n",
    "from matplotlib import pyplot as plt\n",
    "%matplotlib inline\n",
    "\n",
    "plt.subplot(1,2,1)\n",
    "plt.plot(np.dot(x_rand,w_exact.T),y,'.')\n",
    "plt.title('Close w to actual')\n",
    "\n",
    "w_temp = np.array([5.5,0.2])\n",
    "plt.subplot(1,2,2)\n",
    "plt.plot(np.dot(x_rand,w_temp.T),y,'.')\n",
    "plt.title('Not so close w to actual')"
   ]
  },
  {
   "cell_type": "code",
   "execution_count": 19,
   "metadata": {
    "collapsed": false
   },
   "outputs": [
    {
     "name": "stdout",
     "output_type": "stream",
     "text": [
      " final_simplex: (array([[ 5.15437565,  3.15680068],\n",
      "       [ 5.15442547,  3.15683257],\n",
      "       [ 5.15443908,  3.15682873]]), array([ 0.31617365,  0.31617365,  0.31617365]))\n",
      "           fun: 0.31617365228365896\n",
      "       message: 'Optimization terminated successfully.'\n",
      "          nfev: 136\n",
      "           nit: 71\n",
      "        status: 0\n",
      "       success: True\n",
      "             x: array([ 5.15437565,  3.15680068])\n",
      "Exact values: [5 3]\n"
     ]
    }
   ],
   "source": [
    "# take first pass at optimization via Nelder Mead\n",
    "from scipy.optimize import minimize\n",
    "# optimize objective function\n",
    "w_start = np.random.rand(*w_exact.shape)\n",
    "w_found = minimize(obj, w_start, method = 'Nelder-Mead', args=(x_rand, y))\n",
    "\n",
    "print(w_found)\n",
    "print('Exact values:', w_exact)"
   ]
  },
  {
   "cell_type": "markdown",
   "metadata": {},
   "source": [
    "___\n",
    "\n",
    "\n",
    "## Using Optimization for Curve Fitting\n",
    "We want to optimize the following optimization problem:\n",
    "\n",
    "\n",
    "$$\\hat{y}^{(i)}= \\frac{1}{1+\\exp(-w \\cdot x^{(i)})}$$\n",
    "\n",
    "$$\\text{obj}(w)= \\sum_i^N (y^{(i)}-\\hat{y}^{(i)})^2$$\n",
    "\n",
    "The derivative of the objective function is given by:\n",
    "$$ \\frac{\\partial}{\\partial w_j}\\text{obj}(w) = -2 \\sum_i^N (y^{(i)}-\\hat{y}^{(i)})(1-\\hat{y}^{(i)})\\hat{y}^{(i)}x_j^{(i)} $$\n",
    "\n",
    "Which is calculated for every \"j\" value. We can save the intermediate values of $(y^{(i)}-\\hat{y}^{(i)})(1-\\hat{y}^{(i)})\\hat{y}^{(i)}$ using $\\mathbf{y}-\\mathbf{\\hat{y}})\\odot(1-\\mathbf{\\hat{y}})\\odot\\mathbf{\\hat{y}})^\\text{T}$ where where $\\odot$ denotes element by element multiplication. The $\\mathbf{\\hat{y}}$ and $\\mathbf{y}$ vectors consist of each element of $i=$ 1 to $N$. Therefore, the equation can be represented for each value of $w$ as:\n",
    "$$ \\frac{\\partial}{\\partial w_j}\\text{obj}(w) = -2\\cdot\\underbrace{(\\mathbf{y}-\\mathbf{\\hat{y}})\\odot(1-\\mathbf{\\hat{y}})\\odot\\mathbf{\\hat{y}}}_{\\text{tmp vector}}\\cdot\\mathbf{x}_j^{(\\forall i)} $$\n",
    "\n",
    "Which can be written in linear algebra form more compactly, where $\\odot$ denotes element by element multiplication:\n",
    "\n",
    "$$ \\nabla\\mathbf{w} = -2\\cdot((\\mathbf{y}-\\mathbf{\\hat{y}})\\odot(1-\\mathbf{\\hat{y}})\\odot\\mathbf{\\hat{y}})^\\text{T}\\cdot\\mathbf{X} $$\n"
   ]
  },
  {
   "cell_type": "code",
   "execution_count": 21,
   "metadata": {
    "collapsed": true
   },
   "outputs": [],
   "source": [
    "# define gradient without vectorized programming\n",
    "def obj_gradA(w,x,y):\n",
    "    grad = []\n",
    "    yh = yhat(x,w)\n",
    "    # a not so great implementation of the derivative, lots of for loops\n",
    "    for j in range(len(w)):\n",
    "        tmp=0\n",
    "        for i in range(len(x)):\n",
    "            tmp = tmp+yh[i]*(y[i]-yh[i])*(1-yh[i])*x[i,j]\n",
    "        grad.append(-2*tmp)\n",
    "        \n",
    "    return np.array(grad)\n",
    "\n",
    "# add in some vectorization\n",
    "def obj_gradB(w,x,y):\n",
    "    grad = []\n",
    "    yh = yhat(x,w)\n",
    "    \n",
    "    # a better implementation of the derivative\n",
    "    tmp = yh*(y-yh)*(1-yh)\n",
    "    for j in range(len(w)):\n",
    "        grad.append(-2*np.sum(tmp*x[:,j]))\n",
    "        \n",
    "    return np.array(grad)\n",
    "\n",
    "#define the gradient in terms of numpy only operations, vectorized\n",
    "def obj_gradC(w,x,y):\n",
    "    yh = yhat(x,w)\n",
    "    return -2*np.dot(yh*(y-yh)*(1-yh),x) "
   ]
  },
  {
   "cell_type": "code",
   "execution_count": 27,
   "metadata": {
    "collapsed": false
   },
   "outputs": [
    {
     "name": "stdout",
     "output_type": "stream",
     "text": [
      "10 loops, best of 3: 36.9 ms per loop\n",
      "10 loops, best of 3: 46.6 ms per loop\n",
      "The slowest run took 11.67 times longer than the fastest. This could mean that an intermediate result is being cached.\n",
      "10 loops, best of 3: 10.4 ms per loop\n",
      "10 loops, best of 3: 9.93 ms per loop\n",
      "Exact values: [5 3]\n",
      "[ 5.15442831  3.15682916] 94\n",
      "[ 5.1543939   3.15680779] 14\n",
      "[ 5.1543939   3.15680779] 14\n",
      "[ 5.1543939   3.15680779] 14\n"
     ]
    }
   ],
   "source": [
    "# Compare the timing for the different gradient methods\n",
    "w_start = np.random.rand(*w_exact.shape)\n",
    "%timeit w_found = minimize(obj, w_start, method = 'Nelder-Mead', args=(x_rand, y))\n",
    "%timeit w_foundA = minimize(obj, w_start, method='BFGS', args=(x_rand, y), jac=obj_gradA)\n",
    "%timeit w_foundB = minimize(obj, w_start, method='BFGS', args=(x_rand, y), jac=obj_gradB)\n",
    "%timeit w_foundC = minimize(obj, w_start, method='BFGS', args=(x_rand, y), jac=obj_gradC)\n",
    "\n",
    "# print out some summary information\n",
    "print ('Exact values:', w_exact)\n",
    "print (w_found.x, w_found.nfev)\n",
    "print (w_foundA.x, w_foundA.nfev)\n",
    "print (w_foundB.x, w_foundB.nfev)\n",
    "print (w_foundC.x, w_foundC.nfev)"
   ]
  },
  {
   "cell_type": "code",
   "execution_count": 29,
   "metadata": {
    "collapsed": false
   },
   "outputs": [
    {
     "name": "stdout",
     "output_type": "stream",
     "text": [
      "Enter a value for the sigmoid slope:6\n",
      "Enter a value for the noise fraction:0.3\n",
      "Slope found is: [ 6.86729429]\n"
     ]
    },
    {
     "data": {
      "image/png": "[encoded data removed]",
      "text/plain": [
       "<matplotlib.figure.Figure at 0x10f27e438>"
      ]
     },
     "metadata": {},
     "output_type": "display_data"
    }
   ],
   "source": [
    "# Okay, so now we have a sigmoid solver, let's do something fun with it\n",
    "\n",
    "w_exact = np.array([float(input('Enter a value for the sigmoid slope:'))])\n",
    "x_rand = (np.random.rand(100,w_exact.shape[0])-0.5)*2 # n_rows by n_cols\n",
    "y = yhat(x_rand,w_exact) # generate a function\n",
    "y = y + np.random.randn(*y.shape)*float(input('Enter a value for the noise fraction:')) # add random Gaussian noise\n",
    "\n",
    "w_start = np.random.rand(*w_exact.shape)\n",
    "w_foundC = minimize(obj, w_start, method='BFGS', args=(x_rand, y), jac=obj_gradC, options={'gtol':1e-9})\n",
    "\n",
    "print('Slope found is:', w_foundC.x)\n",
    "\n",
    "# now let's plot it\n",
    "x = np.linspace(np.min(x_rand), np.max(x_rand), 1000) # get 1000 points, ordered\n",
    "x = x[np.newaxis].T # make into column vector\n",
    "y_fit = yhat(x,w_foundC.x)\n",
    "\n",
    "plt.plot(x_rand,y,'.',label='Orig')\n",
    "plt.plot(x,y_fit,label='Fit')\n",
    "plt.legend(loc='best')\n",
    "plt.grid()\n",
    "plt.show()"
   ]
  },
  {
   "cell_type": "code",
   "execution_count": 30,
   "metadata": {
    "collapsed": false
   },
   "outputs": [
    {
     "name": "stdout",
     "output_type": "stream",
     "text": [
      "Slope found is: [ 10.31049545]\n"
     ]
    },
    {
     "data": {
      "image/png": "[encoded data removed]",
      "text/plain": [
       "<matplotlib.figure.Figure at 0x10f501630>"
      ]
     },
     "metadata": {},
     "output_type": "display_data"
    }
   ],
   "source": [
    "# how about using some actual interactive widgets!!?\n",
    "import ipywidgets as widgets\n",
    "\n",
    "def plot_func(w,noise=0.0015):\n",
    "    w_exact = np.array([w])\n",
    "    x_rand = (np.random.rand(100,w_exact.shape[0])-0.5)*2 # n_rows by n_cols\n",
    "    y = yhat(x_rand,w_exact) # generate a function\n",
    "    y = y + np.random.randn(*y.shape)*noise # add random Gaussian noise\n",
    "\n",
    "    w_start = np.random.rand(*w_exact.shape)\n",
    "    w_foundC = minimize(obj, w_start, method='BFGS', args=(x_rand, y), jac=obj_gradC, options={'gtol':1e-9})\n",
    "\n",
    "    print ('Slope found is:', w_foundC.x)\n",
    "\n",
    "    # now let's plot it\n",
    "    x = np.linspace(np.min(x_rand), np.max(x_rand), 1000) # get 1000 points, ordered\n",
    "    x = x[np.newaxis].T # make into column vector\n",
    "    y_fit = yhat(x,w_foundC.x)\n",
    "\n",
    "    plt.plot(x_rand,y,'.',label='Orig')\n",
    "    plt.plot(x,y_fit,label='Fit')\n",
    "    plt.legend(loc='best')\n",
    "    plt.grid()\n",
    "    plt.show()\n",
    "    \n",
    "widgets.interact(plot_func,w=widgets.FloatSlider(min=-10, max=10, step=0.2),\n",
    "                 noise=widgets.FloatSlider(min=0.0, max=1, step=0.01),\n",
    "                __manual=True)"
   ]
  },
  {
   "cell_type": "markdown",
   "metadata": {},
   "source": [
    "# Bonus: Compiling Python via numba"
   ]
  },
  {
   "cell_type": "code",
   "execution_count": 31,
   "metadata": {
    "collapsed": false
   },
   "outputs": [
    {
     "name": "stdout",
     "output_type": "stream",
     "text": [
      "The slowest run took 27025.81 times longer than the fastest. This could mean that an intermediate result is being cached.\n",
      "1 loop, best of 3: 42.1 µs per loop\n"
     ]
    }
   ],
   "source": [
    "from numba import jit\n",
    "from scipy.optimize import minimize\n",
    "\n",
    "# redefine example variables\n",
    "x_rand = (np.random.rand(100,2)-0.5)*2 # n_rows by n_cols\n",
    "\n",
    "w_exact = np.array([5,3])\n",
    "y = yhat(x_rand,w_exact) # generate a function\n",
    "y = y + np.random.randn(*y.shape)*0.015 # add random Gaussian noise\n",
    "\n",
    "# define gradient without vectorized programming\n",
    "@jit\n",
    "def obj_gradA(w,x,y):\n",
    "    grad = np.zeros(w.shape)\n",
    "    yh = yhat(x,w)\n",
    "    # a not so great implementation of the derivative, lots of for loops\n",
    "    for j in range(len(w)):\n",
    "        tmp=0\n",
    "        for i in range(len(x)):\n",
    "            tmp = tmp+yh[i]*(y[i]-yh[i])*(1-yh[i])*x[i,j]\n",
    "        grad[j]= -2*tmp\n",
    "        \n",
    "    return grad\n",
    "\n",
    "%timeit obj_gradA(w_exact,x_rand, y)"
   ]
  },
  {
   "cell_type": "code",
   "execution_count": 34,
   "metadata": {
    "collapsed": false
   },
   "outputs": [
    {
     "name": "stdout",
     "output_type": "stream",
     "text": [
      "100 loops, best of 3: 8.83 ms per loop\n",
      "100 loops, best of 3: 3.87 ms per loop\n",
      "100 loops, best of 3: 3.57 ms per loop\n",
      "100 loops, best of 3: 3.15 ms per loop\n",
      "Exact values: [5 3]\n",
      "[ 5.15442831  3.15682916] 94\n",
      "[ 5.1543939   3.15680779] 14\n",
      "[ 5.1543939   3.15680779] 14\n",
      "[ 6.86729429] 14\n"
     ]
    }
   ],
   "source": [
    "# Compare the timing for the different gradient methods\n",
    "w_start = np.random.rand(*w_exact.shape)\n",
    "\n",
    "%timeit w_found = minimize(obj, w_start, method = 'Nelder-Mead', args=(x_rand, y))\n",
    "%timeit w_foundA = minimize(obj, w_start, method='BFGS', args=(x_rand, y), jac=obj_gradA)\n",
    "%timeit w_foundB = minimize(obj, w_start, method='BFGS', args=(x_rand, y), jac=obj_gradB)\n",
    "%timeit w_foundC = minimize(obj, w_start, method='BFGS', args=(x_rand, y), jac=obj_gradC)\n",
    "\n",
    "# print out some summary information\n",
    "print ('Exact values:', w_exact)\n",
    "print (w_found.x, w_found.nfev)\n",
    "print (w_foundA.x, w_foundA.nfev)\n",
    "print (w_foundB.x, w_foundB.nfev)\n",
    "print (w_foundC.x, w_foundC.nfev)"
   ]
  },
  {
   "cell_type": "code",
   "execution_count": null,
   "metadata": {
    "collapsed": true
   },
   "outputs": [],
   "source": []
  }
 ],
 "metadata": {
  "anaconda-cloud": {},
  "kernelspec": {
   "display_name": "Python [MLEnv]",
   "language": "python",
   "name": "Python [MLEnv]"
  },
  "language_info": {
   "codemirror_mode": {
    "name": "ipython",
    "version": 3
   },
   "file_extension": ".py",
   "mimetype": "text/x-python",
   "name": "python",
   "nbconvert_exporter": "python",
   "pygments_lexer": "ipython3",
   "version": "3.5.2"
  }
 },
 "nbformat": 4,
 "nbformat_minor": 0
}
